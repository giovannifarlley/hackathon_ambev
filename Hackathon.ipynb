{
  "nbformat": 4,
  "nbformat_minor": 0,
  "metadata": {
    "colab": {
      "name": "Hackathon",
      "provenance": [],
      "authorship_tag": "ABX9TyNjxzFRQ/oMbn/RmrqAYiAM",
      "include_colab_link": true
    },
    "kernelspec": {
      "name": "python3",
      "display_name": "Python 3"
    }
  },
  "cells": [
    {
      "cell_type": "markdown",
      "metadata": {
        "id": "view-in-github",
        "colab_type": "text"
      },
      "source": [
        "<a href=\"https://colab.research.google.com/github/giovannifarlley/hackathon_ambev/blob/master/Hackathon.ipynb\" target=\"_parent\"><img src=\"https://colab.research.google.com/assets/colab-badge.svg\" alt=\"Open In Colab\"/></a>"
      ]
    },
    {
      "cell_type": "code",
      "metadata": {
        "id": "sFgrs0c9LtBf",
        "colab_type": "code",
        "colab": {}
      },
      "source": [
        "import tweepy                   # Python wrapper around Twitter API\n",
        "from google.colab import drive  # to mount Drive to Colab notebook\n",
        "import json\n",
        "import csv\n",
        "from datetime import date\n",
        "from datetime import datetime\n",
        "import time"
      ],
      "execution_count": 1,
      "outputs": []
    },
    {
      "cell_type": "code",
      "metadata": {
        "id": "kuU2xhM4MWjU",
        "colab_type": "code",
        "colab": {}
      },
      "source": [
        "drive.mount('/content/gdrive')\n",
        "path = './gdrive/My Drive/datasets/twitter_analysis/'"
      ],
      "execution_count": null,
      "outputs": []
    },
    {
      "cell_type": "code",
      "metadata": {
        "id": "HlebfcGeMhVS",
        "colab_type": "code",
        "colab": {}
      },
      "source": [
        "# Load Twitter API secrets from an external file\n",
        "secrets = json.loads(open(path + 'secrets.json').read())  \n",
        "\n",
        "consumer_key = secrets['consumer_key']\n",
        "consumer_secret = secrets['consumer_secret']\n",
        "access_token = secrets['access_token']\n",
        "access_token_secret = secrets['access_token_secret']\n",
        "\n",
        "auth = tweepy.OAuthHandler(consumer_key, consumer_secret)\n",
        "auth.set_access_token(access_token, access_token_secret)\n",
        "\n",
        "api = tweepy.API(auth,wait_on_rate_limit=True)"
      ],
      "execution_count": 12,
      "outputs": []
    },
    {
      "cell_type": "code",
      "metadata": {
        "id": "CVkwGwo1MzA4",
        "colab_type": "code",
        "colab": {
          "base_uri": "https://localhost:8080/",
          "height": 1000
        },
        "outputId": "8abe427e-e4ae-48b0-e89f-0a8080b2879e"
      },
      "source": [
        "queryList = [\n",
        "    \"#detox#suco\",\n",
        "    \"#suco#natural\",\n",
        "    \"#zeroalcool\",\n",
        "    \"semalcool\",\n",
        "    \"#noalcohol\",\n",
        "    \"#sonaagua\",\n",
        "    \"#suco\",    \n",
        "    \"#refrigerante\"\n",
        "]\n",
        "size = 1000000\n",
        "language = \"pt\"\n",
        "start_date = \"2015-04-03\"\n",
        "\n",
        "for query in queryList:  \n",
        "  for tweet in tweepy.Cursor(api.search,q=query,count=size,lang=language,since=start_date).items():\n",
        "    print(tweet.created_at, tweet.text)"
      ],
      "execution_count": 40,
      "outputs": [
        {
          "output_type": "stream",
          "text": [
            "2020-08-12 17:35:46 Receita de Suco Detox para Inchaço, aprenda com essas receitas super simples como fazer vários sucos detox, para co… https://t.co/szgB73wXdO\n",
            "2020-08-07 13:30:44 Vontade de tomar um refri...\n",
            ".\n",
            "youtube/Instagram/twitter\n",
            "@semlabuta\n",
            ".\n",
            "#refrigerante #cerveja #food #suco #cocacola… https://t.co/4PhuPLwJ4Y\n",
            "2020-08-08 19:22:24 Aaaaa esse barulho da lata abrindo o coração chega acelera, a boca enche dágua, dá p explicar não  🥺😩💛 kkkk… https://t.co/GTA6DDNgtL\n",
            "2020-08-12 21:36:12 Não adianta nada me foder a semana toda e fds chutar o balde na cachaça né, aí a favela n vai vencer nunca.\n",
            "#semalcool\n",
            "2020-08-12 18:12:26 Nada melhor do que ir se preparando pra ver o menino ney jogar #pipoca ok #suco ok coca ta cara ai nao da kkkk\n",
            "2020-08-12 17:35:46 Receita de Suco Detox para Inchaço, aprenda com essas receitas super simples como fazer vários sucos detox, para co… https://t.co/szgB73wXdO\n",
            "2020-08-07 18:54:52 Del Valle lança primeiro #suco #retornável do mercado brasileiro #embalagem #sustentabilidade #economiacircular… https://t.co/CuDB6NehgI\n",
            "2020-08-07 13:30:44 Vontade de tomar um refri...\n",
            ".\n",
            "youtube/Instagram/twitter\n",
            "@semlabuta\n",
            ".\n",
            "#refrigerante #cerveja #food #suco #cocacola… https://t.co/4PhuPLwJ4Y\n",
            "2020-08-07 12:39:40 #Alimentos #Mercado #Frutas #Comércio #Varejo Em 2019, grande parte dos #itens de laranja e #suco de laranja também… https://t.co/6sDeMTAdD3\n",
            "2020-08-06 12:17:33 #Alimentos #Mercado #Frutas #Comércio #Varejo Em 2019, grande parte dos #itens de laranja e #suco de laranja também… https://t.co/Pw5YUUOhYN\n",
            "2020-08-12 02:31:21 RT @thaiskisuki: #tirinha inédita de #olgaasexóloga!\n",
            "\n",
            "seja #mecenas da Olga a partir de 1 real: https://t.co/3XETjzyNrA\n",
            "\n",
            "assine os boletins…\n",
            "2020-08-11 14:37:59 RT @thaiskisuki: #tirinha inédita de #olgaasexóloga!\n",
            "\n",
            "seja #mecenas da Olga a partir de 1 real: https://t.co/3XETjzyNrA\n",
            "\n",
            "assine os boletins…\n",
            "2020-08-11 12:38:40 RT @thaiskisuki: #tirinha inédita de #olgaasexóloga!\n",
            "\n",
            "seja #mecenas da Olga a partir de 1 real: https://t.co/3XETjzyNrA\n",
            "\n",
            "assine os boletins…\n",
            "2020-08-11 01:20:16 #tirinha inédita de #olgaasexóloga!\n",
            "\n",
            "seja #mecenas da Olga a partir de 1 real: https://t.co/3XETjzyNrA\n",
            "\n",
            "assine os b… https://t.co/ShMh6GX8Ef\n",
            "2020-08-10 16:34:38 #lanche #sanduíche #bmt #bebida #refrigerante #cocacola \n",
            "Algumas lembranças, assim como alguns sabores, são pra sem… https://t.co/m8d4cbsivZ\n",
            "2020-08-09 22:23:08 @Renanfunny Parabéns!! Felicidades e que Deus te abençoe muito!! #bolo #bala #confete #refrigerante #voamlk\n",
            "2020-08-07 13:30:44 Vontade de tomar um refri...\n",
            ".\n",
            "youtube/Instagram/twitter\n",
            "@semlabuta\n",
            ".\n",
            "#refrigerante #cerveja #food #suco #cocacola… https://t.co/4PhuPLwJ4Y\n",
            "2020-08-06 19:32:40 Todos os dias são bons dias para Comemorar!\n",
            "E nada melhor que comemorar com Fantástico o Kit Festa da Natália!\n",
            "Peça… https://t.co/1M1q9Lyrxe\n",
            "2020-08-06 12:50:32 Esse é paixão nacional hein!!!\n",
            "Qual a sua preferida? Coca ou Coca-Zero?\n",
            "#Coca #CocaCola #CocaZero #Femsa #Refri… https://t.co/iqGQFwhxSe\n",
            "2020-08-05 21:55:51 Limonada Mecânica é um drink que a gente trouxe do futuro para vc. Um sumo gaseificado de limão taiti, em forma de… https://t.co/OBCMYgoBvI\n",
            "2020-08-05 15:18:41 Você sabia que a Itubaina Original tem dois sabores? Não? Pois é, tem itubaina e itubaina guaraná 😋\n",
            "Se já experimen… https://t.co/1LBuelovcJ\n",
            "2020-08-04 23:30:52 Quem lembra dessa propaganda? Antiga, mas, com conteúdo atual.\n",
            "\n",
            "#2013 #cocacola #professoramerecerespeito… https://t.co/snG7vKPG7f\n",
            "2020-08-04 21:05:24 #hambúrguer #hambuger #duploquarterão #batatafrita #frenchfries #refrigerante #cocacola #combo #mcdonalds \n",
            "É... Não… https://t.co/Xfvysv3j9Y\n",
            "2020-08-04 12:01:33 Me diga aí Galera!!! Qual é a sua preferida? 😋😉\n",
            "#Refri #Refrigerante #Fanta #FantaUva #FantaLaranja #FantaGuaraná… https://t.co/yyZBhXX4Ox\n"
          ],
          "name": "stdout"
        }
      ]
    },
    {
      "cell_type": "code",
      "metadata": {
        "id": "Xr_u8_PxHaSn",
        "colab_type": "code",
        "colab": {}
      },
      "source": [
        ""
      ],
      "execution_count": 25,
      "outputs": []
    },
    {
      "cell_type": "code",
      "metadata": {
        "id": "Wy4a9sCwHc1e",
        "colab_type": "code",
        "colab": {}
      },
      "source": [
        ""
      ],
      "execution_count": 10,
      "outputs": []
    },
    {
      "cell_type": "code",
      "metadata": {
        "id": "O5_cZgm3IIOV",
        "colab_type": "code",
        "colab": {}
      },
      "source": [
        ""
      ],
      "execution_count": 10,
      "outputs": []
    }
  ]
}