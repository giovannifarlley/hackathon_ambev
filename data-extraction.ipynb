{
 "cells": [
  {
   "cell_type": "code",
   "execution_count": 2,
   "metadata": {},
   "outputs": [],
   "source": [
    "import tweepy\n",
    "import json\n",
    "import csv\n",
    "from datetime import date\n",
    "from datetime import datetime\n",
    "import time"
   ]
  },
  {
   "cell_type": "code",
   "execution_count": 3,
   "metadata": {},
   "outputs": [],
   "source": [
    "secrets = {\n",
    "  \"consumer_key\":\"XXXX\",\n",
    "  \"consumer_secret\":\"XXXX\",\n",
    "  \"access_token\":\"XXXX\",\n",
    "  \"access_token_secret\":\"XXXX\"\n",
    "}"
   ]
  },
  {
   "cell_type": "code",
   "execution_count": 4,
   "metadata": {},
   "outputs": [],
   "source": [
    "consumer_key = secrets['consumer_key']\n",
    "consumer_secret = secrets['consumer_secret']\n",
    "access_token = secrets['access_token']\n",
    "access_token_secret = secrets['access_token_secret']\n",
    "\n",
    "auth = tweepy.OAuthHandler(consumer_key, consumer_secret)\n",
    "auth.set_access_token(access_token, access_token_secret)\n",
    "\n",
    "api = tweepy.API(auth,wait_on_rate_limit=True)"
   ]
  },
  {
   "cell_type": "code",
   "execution_count": 6,
   "metadata": {},
   "outputs": [
    {
     "name": "stdout",
     "output_type": "stream",
     "text": [
      "2020-08-13 21:26:15 Água de Coco com mamão Formosa.\n",
      "#delicia\n",
      "#suco\n",
      "#detox https://t.co/b4cBaEWrWT\n",
      "2020-08-12 17:35:46 Receita de Suco Detox para Inchaço, aprenda com essas receitas super simples como fazer vários sucos detox, para co… https://t.co/szgB73wXdO\n",
      "2020-08-13 23:29:12 Benefícios da uva passas\n",
      "Deixe seu 👍🏻❤️😛😮😥\n",
      "｡◕‿◕｡ COMPARTILHE SAÚDE\n",
      "#natural\n",
      "#suco\n",
      "#UVA\n",
      "#saude\n",
      "#Beneficios https://t.co/2JqQN149el\n",
      "2020-08-15 20:45:03 Minha mãe disse que sou cachaceira! \n",
      "Coitada dela! Esse coquetel é sem álcool!\n",
      "O choro é livre BB! \n",
      "#sabadou… https://t.co/KKaRajbLxS\n",
      "2020-08-14 16:48:44 @FelipeeAraujooo Sextou mas apaga meu número, estou suave. #SemAlcool\n",
      "2020-08-15 19:55:22 qual o conceito de vitamina? é uma fruta batida com leite tipo vitamina de banana? mas ai suco de laranja no leite… https://t.co/Ad9yuqCBOF\n",
      "2020-08-14 12:12:13 #Alimentos #Mercado #Frutas #Comércio #Varejo Em 2019, grande parte dos #itens de laranja e #suco de laranja também… https://t.co/XyNFZEKzeL\n",
      "2020-08-13 23:29:12 Benefícios da uva passas\n",
      "Deixe seu 👍🏻❤️😛😮😥\n",
      "｡◕‿◕｡ COMPARTILHE SAÚDE\n",
      "#natural\n",
      "#suco\n",
      "#UVA\n",
      "#saude\n",
      "#Beneficios https://t.co/2JqQN149el\n",
      "2020-08-13 21:26:15 Água de Coco com mamão Formosa.\n",
      "#delicia\n",
      "#suco\n",
      "#detox https://t.co/b4cBaEWrWT\n",
      "2020-08-13 00:08:49 #Alimentos #Mercado #Frutas #Comércio #Varejo Em 2019, grande parte dos #itens de laranja e #suco de laranja também… https://t.co/qTlXxo4b9H\n",
      "2020-08-12 18:12:26 Nada melhor do que ir se preparando pra ver o menino ney jogar #pipoca ok #suco ok coca ta cara ai nao da kkkk\n",
      "2020-08-12 17:35:46 Receita de Suco Detox para Inchaço, aprenda com essas receitas super simples como fazer vários sucos detox, para co… https://t.co/szgB73wXdO\n",
      "2020-08-14 19:18:10 🧐Está com sede? Vai um #refrigerante #Sarandi sabor #cola aí? 😏🍾\n",
      "\n",
      "https://t.co/L7KOOQPlyj https://t.co/gWozBHckPs\n",
      "2020-08-13 02:07:58 RT @thaiskisuki: #tirinha inédita de #olgaasexóloga!\n",
      "\n",
      "seja #mecenas da Olga a partir de 1 real: https://t.co/3XETjzyNrA\n",
      "\n",
      "assine os boletins…\n",
      "2020-08-12 02:31:21 RT @thaiskisuki: #tirinha inédita de #olgaasexóloga!\n",
      "\n",
      "seja #mecenas da Olga a partir de 1 real: https://t.co/3XETjzyNrA\n",
      "\n",
      "assine os boletins…\n",
      "2020-08-11 14:37:59 RT @thaiskisuki: #tirinha inédita de #olgaasexóloga!\n",
      "\n",
      "seja #mecenas da Olga a partir de 1 real: https://t.co/3XETjzyNrA\n",
      "\n",
      "assine os boletins…\n",
      "2020-08-11 12:38:40 RT @thaiskisuki: #tirinha inédita de #olgaasexóloga!\n",
      "\n",
      "seja #mecenas da Olga a partir de 1 real: https://t.co/3XETjzyNrA\n",
      "\n",
      "assine os boletins…\n",
      "2020-08-11 01:20:16 #tirinha inédita de #olgaasexóloga!\n",
      "\n",
      "seja #mecenas da Olga a partir de 1 real: https://t.co/3XETjzyNrA\n",
      "\n",
      "assine os b… https://t.co/ShMh6GX8Ef\n",
      "2020-08-10 16:34:38 #lanche #sanduíche #bmt #bebida #refrigerante #cocacola \n",
      "Algumas lembranças, assim como alguns sabores, são pra sem… https://t.co/m8d4cbsivZ\n",
      "2020-08-09 22:23:08 @Renanfunny Parabéns!! Felicidades e que Deus te abençoe muito!! #bolo #bala #confete #refrigerante #voamlk\n"
     ]
    }
   ],
   "source": [
    "queryList = [\n",
    "    \"#detox#suco\",\n",
    "    \"#suco#natural\",\n",
    "    \"#zeroalcool\",\n",
    "    \"semalcool\",\n",
    "    \"#noalcohol\",\n",
    "    \"#sonaagua\",\n",
    "    \"#suco\",    \n",
    "    \"#refrigerante\"\n",
    "]\n",
    "size = 1000000\n",
    "language = \"pt\"\n",
    "start_date = \"2015-04-03\"\n",
    "\n",
    "data = []\n",
    "for query in queryList:  \n",
    "  for tweet in tweepy.Cursor(api.search,q=query,count=size,lang=language,since=start_date).items():\n",
    "    data.append(tweet)\n",
    "    print(tweet.created_at, tweet.text)"
   ]
  },
  {
   "cell_type": "code",
   "execution_count": null,
   "metadata": {},
   "outputs": [],
   "source": []
  }
 ],
 "metadata": {
  "kernelspec": {
   "display_name": "Python 3",
   "language": "python",
   "name": "python3"
  },
  "language_info": {
   "codemirror_mode": {
    "name": "ipython",
    "version": 3
   },
   "file_extension": ".py",
   "mimetype": "text/x-python",
   "name": "python",
   "nbconvert_exporter": "python",
   "pygments_lexer": "ipython3",
   "version": "3.7.3"
  }
 },
 "nbformat": 4,
 "nbformat_minor": 2
}
